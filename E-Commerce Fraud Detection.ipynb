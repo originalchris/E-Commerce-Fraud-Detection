{
 "cells": [
  {
   "cell_type": "markdown",
   "metadata": {},
   "source": [
    "---\n",
    "### The Objective\n",
    "The main objective is to systematically identify fraudulent transactions by exploring building a model to predict whether a user’s activity is fraudulent.\n",
    "\n",
    "#### Summary of Data\n",
    "1. user_id: Unique user ID\n",
    "2. signup_time: The time when the user created their account (GMT time)\n",
    "3. purchase_time: The time when the user bought the item (GMT time)\n",
    "4. purchase_value: The cost of the item purchased (USD)\n",
    "5. device_id: The device id. You can assume that it is unique by device. (If two transactions have the same device ID that means that the same physical device was used to purchase)\n",
    "6. source: User marketing channel: ads, SEO, direct\n",
    "7. browser: The browser used by the user.\n",
    "8. sex: User sex: Male/Female\n",
    "9. age: user age\n",
    "10. ip_address: user numeric IP address\n",
    "11. class: This is the target variable. Fraudulent activities is tagged as ‘1’, whereas non-fraudulent activities are tagged as ‘0’"
   ]
  },
  {
   "cell_type": "code",
   "execution_count": 1,
   "metadata": {},
   "outputs": [],
   "source": [
    "import pandas as pd;\n",
    "import numpy as np;\n",
    "import datetime;\n",
    "from matplotlib import pyplot as plt\n",
    "from sklearn.preprocessing import LabelEncoder;\n",
    "from sklearn.preprocessing import OneHotEncoder;\n",
    "from sklearn.model_selection import train_test_split;\n",
    "from sklearn import metrics;\n",
    "from sklearn.ensemble import RandomForestClassifier;\n",
    "from sklearn.linear_model import LogisticRegression;\n",
    "from sklearn.metrics import roc_curve;\n",
    "\n"
   ]
  },
  {
   "cell_type": "code",
   "execution_count": 2,
   "metadata": {},
   "outputs": [],
   "source": [
    "data_1 = pd.read_csv(\"Fraud_Data.csv\");\n",
    "data_2 = pd.read_csv(\"IpAddress_to_Country.csv\");"
   ]
  },
  {
   "cell_type": "markdown",
   "metadata": {},
   "source": [
    "---\n",
    "### Data Exploration (Part I)\n",
    "We are presented with two datasets which I have defined as data_1 and data_2. File data_1 holds most of the data. File data_2 also holds information about the country of origin of the transaction which is also valuable. We must linked the two datasets with the with the IP from data_1 and the IP ranges from data_2."
   ]
  },
  {
   "cell_type": "code",
   "execution_count": 3,
   "metadata": {},
   "outputs": [
    {
     "data": {
      "text/html": [
       "<div>\n",
       "<style scoped>\n",
       "    .dataframe tbody tr th:only-of-type {\n",
       "        vertical-align: middle;\n",
       "    }\n",
       "\n",
       "    .dataframe tbody tr th {\n",
       "        vertical-align: top;\n",
       "    }\n",
       "\n",
       "    .dataframe thead th {\n",
       "        text-align: right;\n",
       "    }\n",
       "</style>\n",
       "<table border=\"1\" class=\"dataframe\">\n",
       "  <thead>\n",
       "    <tr style=\"text-align: right;\">\n",
       "      <th></th>\n",
       "      <th>user_id</th>\n",
       "      <th>signup_time</th>\n",
       "      <th>purchase_time</th>\n",
       "      <th>purchase_value</th>\n",
       "      <th>device_id</th>\n",
       "      <th>source</th>\n",
       "      <th>browser</th>\n",
       "      <th>sex</th>\n",
       "      <th>age</th>\n",
       "      <th>ip_address</th>\n",
       "      <th>class</th>\n",
       "    </tr>\n",
       "  </thead>\n",
       "  <tbody>\n",
       "    <tr>\n",
       "      <td>0</td>\n",
       "      <td>22058</td>\n",
       "      <td>2015-02-24 22:55:49</td>\n",
       "      <td>2015-04-18 02:47:11</td>\n",
       "      <td>34</td>\n",
       "      <td>QVPSPJUOCKZAR</td>\n",
       "      <td>SEO</td>\n",
       "      <td>Chrome</td>\n",
       "      <td>M</td>\n",
       "      <td>39</td>\n",
       "      <td>7.327584e+08</td>\n",
       "      <td>0</td>\n",
       "    </tr>\n",
       "    <tr>\n",
       "      <td>1</td>\n",
       "      <td>333320</td>\n",
       "      <td>2015-06-07 20:39:50</td>\n",
       "      <td>2015-06-08 01:38:54</td>\n",
       "      <td>16</td>\n",
       "      <td>EOGFQPIZPYXFZ</td>\n",
       "      <td>Ads</td>\n",
       "      <td>Chrome</td>\n",
       "      <td>F</td>\n",
       "      <td>53</td>\n",
       "      <td>3.503114e+08</td>\n",
       "      <td>0</td>\n",
       "    </tr>\n",
       "    <tr>\n",
       "      <td>2</td>\n",
       "      <td>1359</td>\n",
       "      <td>2015-01-01 18:52:44</td>\n",
       "      <td>2015-01-01 18:52:45</td>\n",
       "      <td>15</td>\n",
       "      <td>YSSKYOSJHPPLJ</td>\n",
       "      <td>SEO</td>\n",
       "      <td>Opera</td>\n",
       "      <td>M</td>\n",
       "      <td>53</td>\n",
       "      <td>2.621474e+09</td>\n",
       "      <td>1</td>\n",
       "    </tr>\n",
       "    <tr>\n",
       "      <td>3</td>\n",
       "      <td>150084</td>\n",
       "      <td>2015-04-28 21:13:25</td>\n",
       "      <td>2015-05-04 13:54:50</td>\n",
       "      <td>44</td>\n",
       "      <td>ATGTXKYKUDUQN</td>\n",
       "      <td>SEO</td>\n",
       "      <td>Safari</td>\n",
       "      <td>M</td>\n",
       "      <td>41</td>\n",
       "      <td>3.840542e+09</td>\n",
       "      <td>0</td>\n",
       "    </tr>\n",
       "    <tr>\n",
       "      <td>4</td>\n",
       "      <td>221365</td>\n",
       "      <td>2015-07-21 07:09:52</td>\n",
       "      <td>2015-09-09 18:40:53</td>\n",
       "      <td>39</td>\n",
       "      <td>NAUITBZFJKHWW</td>\n",
       "      <td>Ads</td>\n",
       "      <td>Safari</td>\n",
       "      <td>M</td>\n",
       "      <td>45</td>\n",
       "      <td>4.155831e+08</td>\n",
       "      <td>0</td>\n",
       "    </tr>\n",
       "  </tbody>\n",
       "</table>\n",
       "</div>"
      ],
      "text/plain": [
       "   user_id          signup_time        purchase_time  purchase_value  \\\n",
       "0    22058  2015-02-24 22:55:49  2015-04-18 02:47:11              34   \n",
       "1   333320  2015-06-07 20:39:50  2015-06-08 01:38:54              16   \n",
       "2     1359  2015-01-01 18:52:44  2015-01-01 18:52:45              15   \n",
       "3   150084  2015-04-28 21:13:25  2015-05-04 13:54:50              44   \n",
       "4   221365  2015-07-21 07:09:52  2015-09-09 18:40:53              39   \n",
       "\n",
       "       device_id source browser sex  age    ip_address  class  \n",
       "0  QVPSPJUOCKZAR    SEO  Chrome   M   39  7.327584e+08      0  \n",
       "1  EOGFQPIZPYXFZ    Ads  Chrome   F   53  3.503114e+08      0  \n",
       "2  YSSKYOSJHPPLJ    SEO   Opera   M   53  2.621474e+09      1  \n",
       "3  ATGTXKYKUDUQN    SEO  Safari   M   41  3.840542e+09      0  \n",
       "4  NAUITBZFJKHWW    Ads  Safari   M   45  4.155831e+08      0  "
      ]
     },
     "execution_count": 3,
     "metadata": {},
     "output_type": "execute_result"
    }
   ],
   "source": [
    "data_1.head()"
   ]
  },
  {
   "cell_type": "code",
   "execution_count": 4,
   "metadata": {},
   "outputs": [
    {
     "data": {
      "text/html": [
       "<div>\n",
       "<style scoped>\n",
       "    .dataframe tbody tr th:only-of-type {\n",
       "        vertical-align: middle;\n",
       "    }\n",
       "\n",
       "    .dataframe tbody tr th {\n",
       "        vertical-align: top;\n",
       "    }\n",
       "\n",
       "    .dataframe thead th {\n",
       "        text-align: right;\n",
       "    }\n",
       "</style>\n",
       "<table border=\"1\" class=\"dataframe\">\n",
       "  <thead>\n",
       "    <tr style=\"text-align: right;\">\n",
       "      <th></th>\n",
       "      <th>lower_bound_ip_address</th>\n",
       "      <th>upper_bound_ip_address</th>\n",
       "      <th>country</th>\n",
       "    </tr>\n",
       "  </thead>\n",
       "  <tbody>\n",
       "    <tr>\n",
       "      <td>0</td>\n",
       "      <td>16777216.0</td>\n",
       "      <td>16777471</td>\n",
       "      <td>Australia</td>\n",
       "    </tr>\n",
       "    <tr>\n",
       "      <td>1</td>\n",
       "      <td>16777472.0</td>\n",
       "      <td>16777727</td>\n",
       "      <td>China</td>\n",
       "    </tr>\n",
       "    <tr>\n",
       "      <td>2</td>\n",
       "      <td>16777728.0</td>\n",
       "      <td>16778239</td>\n",
       "      <td>China</td>\n",
       "    </tr>\n",
       "    <tr>\n",
       "      <td>3</td>\n",
       "      <td>16778240.0</td>\n",
       "      <td>16779263</td>\n",
       "      <td>Australia</td>\n",
       "    </tr>\n",
       "    <tr>\n",
       "      <td>4</td>\n",
       "      <td>16779264.0</td>\n",
       "      <td>16781311</td>\n",
       "      <td>China</td>\n",
       "    </tr>\n",
       "  </tbody>\n",
       "</table>\n",
       "</div>"
      ],
      "text/plain": [
       "   lower_bound_ip_address  upper_bound_ip_address    country\n",
       "0              16777216.0                16777471  Australia\n",
       "1              16777472.0                16777727      China\n",
       "2              16777728.0                16778239      China\n",
       "3              16778240.0                16779263  Australia\n",
       "4              16779264.0                16781311      China"
      ]
     },
     "execution_count": 4,
     "metadata": {},
     "output_type": "execute_result"
    }
   ],
   "source": [
    "data_2.head()"
   ]
  },
  {
   "cell_type": "markdown",
   "metadata": {},
   "source": [
    "---\n",
    "## Pre-Processing Data\n",
    "It is clear from just observation that we cannot create a usuable model based on the given data.\n",
    "For us to build a predictive model, we need numerical inputs. Columns that contain categorical data (non-numeric) must be converted into numerical but logical numbers."
   ]
  },
  {
   "cell_type": "markdown",
   "metadata": {},
   "source": [
    "#### [1] Defining a New Dataset\n",
    "We will define a new empty dataset called \"new_data\" for our model to build upon along with certain features that will be the columns of the new dataset."
   ]
  },
  {
   "cell_type": "code",
   "execution_count": 5,
   "metadata": {},
   "outputs": [],
   "source": [
    "new_data = pd.DataFrame();\n",
    "country = [];\n",
    "difference_time = [];"
   ]
  },
  {
   "cell_type": "markdown",
   "metadata": {},
   "source": [
    "#### [2] Time Formatting\n",
    "This will help us access the time stamp of the data more easily."
   ]
  },
  {
   "cell_type": "code",
   "execution_count": 6,
   "metadata": {},
   "outputs": [],
   "source": [
    "data_1['signup_time'] = pd.to_datetime(data_1.signup_time);\n",
    "data_1['purchase_time'] = pd.to_datetime(data_1.purchase_time);"
   ]
  },
  {
   "cell_type": "markdown",
   "metadata": {},
   "source": [
    "#### [3] Labeling IP and IP Ranges"
   ]
  },
  {
   "cell_type": "code",
   "execution_count": 7,
   "metadata": {},
   "outputs": [],
   "source": [
    "ip_actual = np.array(data_1['ip_address']);\n",
    "ip_lower = np.array(data_2[\"lower_bound_ip_address\"]);\n",
    "ip_upper = np.array(data_2[\"upper_bound_ip_address\"]);"
   ]
  },
  {
   "cell_type": "markdown",
   "metadata": {},
   "source": [
    "#### [4] Defining a Label Encoding Function\n",
    "A Label Encoding function is a very powerful tool that allows us to take any column in a dataset and transform categorical data into unique integer values."
   ]
  },
  {
   "cell_type": "code",
   "execution_count": 8,
   "metadata": {},
   "outputs": [],
   "source": [
    "def label_encode(values):\n",
    "    \n",
    "    label_encoder = LabelEncoder();\n",
    "    integer_encoded = label_encoder.fit_transform(values);\n",
    "    \n",
    "    return(integer_encoded);"
   ]
  },
  {
   "cell_type": "markdown",
   "metadata": {},
   "source": [
    "#### [5] Defining an IP Search Function\n",
    "This function will help us jointhe two given datasets."
   ]
  },
  {
   "cell_type": "code",
   "execution_count": 9,
   "metadata": {},
   "outputs": [],
   "source": [
    "def country_by_ip(ip_index):\n",
    "    \n",
    "    location = np.where(np.logical_and(ip_lower <= ip_actual[ip_index], ip_actual[ip_index] <= ip_upper));\n",
    "    \n",
    "    return location;"
   ]
  },
  {
   "cell_type": "markdown",
   "metadata": {},
   "source": [
    "#### [6] Defining a Suspicious Activity Function\n",
    "This function will find the time difference (in minutes) between an account creation and a purchase. A short time difference can be more telling than using the literal time of account creation and purchase information as."
   ]
  },
  {
   "cell_type": "code",
   "execution_count": 10,
   "metadata": {},
   "outputs": [],
   "source": [
    "def time_difference(index):\n",
    "    \n",
    "    difference = data_1['purchase_time'][index]-data_1['signup_time'][index];\n",
    "    total_difference_in_minutes = round(difference.days*1440 + difference.seconds/60);\n",
    "    \n",
    "    return total_difference_in_minutes;"
   ]
  },
  {
   "cell_type": "markdown",
   "metadata": {},
   "source": [
    "---\n",
    "## Feature Engineering\n",
    "We will now apply our preproccessing tools and apply it to build on the new dataset we created earlier by filling in the data."
   ]
  },
  {
   "cell_type": "markdown",
   "metadata": {},
   "source": [
    "#### [1] Applying IP Search Function\n",
    "We will not apply the IP Search function by looping through the entire dataset once that will match the transaction with the corresponding country. If a specific country is not listed, then it will be listed as \"Other\". This information will be stored in our list \"country\" we have created earlier.\n",
    "\n",
    "(Note: Est~ 34 seconds runtime on Intel i9 9900k (8C/16T) processor @ stock speeds)"
   ]
  },
  {
   "cell_type": "code",
   "execution_count": 11,
   "metadata": {},
   "outputs": [],
   "source": [
    "for i in range(0, len(data_1)):\n",
    "    if (country_by_ip(i)[0]).size > 0:\n",
    "        country.append(data_2['country'][int(country_by_ip(i)[0])]);\n",
    "    else:\n",
    "        country.append(\"Other\");"
   ]
  },
  {
   "cell_type": "markdown",
   "metadata": {},
   "source": [
    "#### [2] Applying Suspicious Activity Function\n",
    "This will loop through the entire dataset and export a list of the total time that have passed (in minutes) between each account creation and transaction."
   ]
  },
  {
   "cell_type": "code",
   "execution_count": 12,
   "metadata": {},
   "outputs": [],
   "source": [
    "for i in range(0,len(data_1)):\n",
    "    difference_time.append(time_difference(i)); "
   ]
  },
  {
   "cell_type": "markdown",
   "metadata": {},
   "source": [
    "#### [3] Applying Label Encode Function \n",
    "We will now change all once previously unusable categorical data into a numerical value for our new dataset."
   ]
  },
  {
   "cell_type": "code",
   "execution_count": 13,
   "metadata": {},
   "outputs": [],
   "source": [
    "new_source = label_encode(data_1['source']); \n",
    "new_browser = label_encode(data_1['browser']);\n",
    "new_device_id = label_encode(data_1['device_id']); \n",
    "new_sex = label_encode(data_1['sex']); \n",
    "new_country = label_encode(country);"
   ]
  },
  {
   "cell_type": "markdown",
   "metadata": {},
   "source": [
    "#### [4] Filling New Dataset\n",
    "We will now fill in our new dataset we created earlier with our new usuable data."
   ]
  },
  {
   "cell_type": "code",
   "execution_count": 14,
   "metadata": {},
   "outputs": [],
   "source": [
    "new_data['user_id'] = data_1['user_id'];\n",
    "new_data['country'] = new_country;\n",
    "new_data['purchase_value'] = data_1['purchase_value'];\n",
    "new_data['age'] = data_1['age']; \n",
    "new_data['age'] = data_1['age'];\n",
    "new_data['ip_address'] = data_1['ip_address'];\n"
   ]
  },
  {
   "cell_type": "markdown",
   "metadata": {},
   "source": [
    "#### [5] Reusing Old Data\n",
    "Fortunately some data from the original dataset were already numeric. We can reuse this information without changing it by copying it over directly into the new dataset."
   ]
  },
  {
   "cell_type": "code",
   "execution_count": 15,
   "metadata": {},
   "outputs": [],
   "source": [
    "new_data['source'] = new_source; \n",
    "new_data['browser'] = new_browser;\n",
    "new_data['device_id'] = new_device_id; \n",
    "new_data['difference_time'] = difference_time;"
   ]
  },
  {
   "cell_type": "markdown",
   "metadata": {},
   "source": [
    "---\n",
    "### Data Exploration (Part II)\n",
    "We can now observe that our new dataset is comprised of only numerical values."
   ]
  },
  {
   "cell_type": "code",
   "execution_count": 16,
   "metadata": {},
   "outputs": [
    {
     "data": {
      "text/html": [
       "<div>\n",
       "<style scoped>\n",
       "    .dataframe tbody tr th:only-of-type {\n",
       "        vertical-align: middle;\n",
       "    }\n",
       "\n",
       "    .dataframe tbody tr th {\n",
       "        vertical-align: top;\n",
       "    }\n",
       "\n",
       "    .dataframe thead th {\n",
       "        text-align: right;\n",
       "    }\n",
       "</style>\n",
       "<table border=\"1\" class=\"dataframe\">\n",
       "  <thead>\n",
       "    <tr style=\"text-align: right;\">\n",
       "      <th></th>\n",
       "      <th>user_id</th>\n",
       "      <th>country</th>\n",
       "      <th>purchase_value</th>\n",
       "      <th>age</th>\n",
       "      <th>ip_address</th>\n",
       "      <th>source</th>\n",
       "      <th>browser</th>\n",
       "      <th>device_id</th>\n",
       "      <th>difference_time</th>\n",
       "    </tr>\n",
       "  </thead>\n",
       "  <tbody>\n",
       "    <tr>\n",
       "      <td>0</td>\n",
       "      <td>22058</td>\n",
       "      <td>84</td>\n",
       "      <td>34</td>\n",
       "      <td>39</td>\n",
       "      <td>7.327584e+08</td>\n",
       "      <td>2</td>\n",
       "      <td>0</td>\n",
       "      <td>89215</td>\n",
       "      <td>75111</td>\n",
       "    </tr>\n",
       "    <tr>\n",
       "      <td>1</td>\n",
       "      <td>333320</td>\n",
       "      <td>172</td>\n",
       "      <td>16</td>\n",
       "      <td>53</td>\n",
       "      <td>3.503114e+08</td>\n",
       "      <td>0</td>\n",
       "      <td>0</td>\n",
       "      <td>24078</td>\n",
       "      <td>299</td>\n",
       "    </tr>\n",
       "    <tr>\n",
       "      <td>2</td>\n",
       "      <td>1359</td>\n",
       "      <td>172</td>\n",
       "      <td>15</td>\n",
       "      <td>53</td>\n",
       "      <td>2.621474e+09</td>\n",
       "      <td>2</td>\n",
       "      <td>3</td>\n",
       "      <td>131216</td>\n",
       "      <td>0</td>\n",
       "    </tr>\n",
       "    <tr>\n",
       "      <td>3</td>\n",
       "      <td>150084</td>\n",
       "      <td>126</td>\n",
       "      <td>44</td>\n",
       "      <td>41</td>\n",
       "      <td>3.840542e+09</td>\n",
       "      <td>2</td>\n",
       "      <td>4</td>\n",
       "      <td>3977</td>\n",
       "      <td>8201</td>\n",
       "    </tr>\n",
       "    <tr>\n",
       "      <td>4</td>\n",
       "      <td>221365</td>\n",
       "      <td>172</td>\n",
       "      <td>39</td>\n",
       "      <td>45</td>\n",
       "      <td>4.155831e+08</td>\n",
       "      <td>0</td>\n",
       "      <td>4</td>\n",
       "      <td>68757</td>\n",
       "      <td>72691</td>\n",
       "    </tr>\n",
       "  </tbody>\n",
       "</table>\n",
       "</div>"
      ],
      "text/plain": [
       "   user_id  country  purchase_value  age    ip_address  source  browser  \\\n",
       "0    22058       84              34   39  7.327584e+08       2        0   \n",
       "1   333320      172              16   53  3.503114e+08       0        0   \n",
       "2     1359      172              15   53  2.621474e+09       2        3   \n",
       "3   150084      126              44   41  3.840542e+09       2        4   \n",
       "4   221365      172              39   45  4.155831e+08       0        4   \n",
       "\n",
       "   device_id  difference_time  \n",
       "0      89215            75111  \n",
       "1      24078              299  \n",
       "2     131216                0  \n",
       "3       3977             8201  \n",
       "4      68757            72691  "
      ]
     },
     "execution_count": 16,
     "metadata": {},
     "output_type": "execute_result"
    }
   ],
   "source": [
    "new_data.head()"
   ]
  },
  {
   "cell_type": "markdown",
   "metadata": {},
   "source": [
    "### Visualization"
   ]
  },
  {
   "cell_type": "code",
   "execution_count": 17,
   "metadata": {},
   "outputs": [],
   "source": [
    "data_1['country'] = country\n",
    "fraud_actual = pd.DataFrame(data_1.loc[data_1['class'] == 1]);"
   ]
  },
  {
   "cell_type": "markdown",
   "metadata": {},
   "source": [
    "##### As we can see, most of the fraudulant transactions are cheaper purchases mostly between 9 to 50 (dollars?)"
   ]
  },
  {
   "cell_type": "code",
   "execution_count": 18,
   "metadata": {},
   "outputs": [
    {
     "data": {
      "image/png": "[encoded data removed]",
      "text/plain": [
       "<Figure size 432x288 with 1 Axes>"
      ]
     },
     "metadata": {
      "needs_background": "light"
     },
     "output_type": "display_data"
    }
   ],
   "source": [
    "fraud_actual['purchase_value'].value_counts(bins = 10).plot(kind = 'bar', color ='purple', stacked=True);\n",
    "plt.xlabel('Purchase Value Ranges');\n",
    "plt.ylabel('Frequency');\n",
    "plt.title('Frequency of Purchase Value');"
   ]
  },
  {
   "cell_type": "markdown",
   "metadata": {},
   "source": [
    "##### Chrome is the most used browser for fraudulant activities"
   ]
  },
  {
   "cell_type": "code",
   "execution_count": 19,
   "metadata": {},
   "outputs": [
    {
     "data": {
      "image/png": "[encoded data removed]",
      "text/plain": [
       "<Figure size 432x288 with 1 Axes>"
      ]
     },
     "metadata": {
      "needs_background": "light"
     },
     "output_type": "display_data"
    }
   ],
   "source": [
    "fraud_actual['browser'].value_counts().plot(kind = 'bar', color ='green');\n",
    "plt.xlabel('Browser');\n",
    "plt.ylabel('Frequency');\n",
    "plt.title('Frequency of Fraudulent Activities by Browser');"
   ]
  },
  {
   "cell_type": "markdown",
   "metadata": {},
   "source": [
    "##### Ads and SEO are the two leading sources of fradulant activies."
   ]
  },
  {
   "cell_type": "code",
   "execution_count": 20,
   "metadata": {},
   "outputs": [
    {
     "data": {
      "image/png": "[encoded data removed]",
      "text/plain": [
       "<Figure size 432x288 with 1 Axes>"
      ]
     },
     "metadata": {
      "needs_background": "light"
     },
     "output_type": "display_data"
    }
   ],
   "source": [
    "fraud_actual['source'].value_counts().plot(kind = 'bar', color ='blue');\n",
    "plt.xlabel('Source');\n",
    "plt.ylabel('Frequency');\n",
    "plt.title('Frequency of Fraudulent Activities by Source');"
   ]
  },
  {
   "cell_type": "markdown",
   "metadata": {},
   "source": [
    "##### About 60% of all the fradulant activities are performed by males and 40% females."
   ]
  },
  {
   "cell_type": "code",
   "execution_count": 21,
   "metadata": {},
   "outputs": [
    {
     "data": {
      "image/png": "[encoded data removed]",
      "text/plain": [
       "<Figure size 432x288 with 1 Axes>"
      ]
     },
     "metadata": {},
     "output_type": "display_data"
    }
   ],
   "source": [
    "fraud_actual['sex'].value_counts().plot(kind = 'pie', label = 'Gender', autopct = '%1.0f%%');\n",
    "plt.title('Frequency of Fraudulent Activities by Gender');"
   ]
  },
  {
   "cell_type": "markdown",
   "metadata": {},
   "source": [
    "##### Ranking in the top 10 countries from this dataset, United States is by far the leading country for most fraudulant activities."
   ]
  },
  {
   "cell_type": "code",
   "execution_count": 22,
   "metadata": {},
   "outputs": [
    {
     "data": {
      "image/png": "[encoded data removed]",
      "text/plain": [
       "<Figure size 432x288 with 1 Axes>"
      ]
     },
     "metadata": {
      "needs_background": "light"
     },
     "output_type": "display_data"
    }
   ],
   "source": [
    "fraud_actual['country'].value_counts()[:10].plot(kind = 'barh', color ='red');\n",
    "plt.xlabel('Frequency');\n",
    "plt.ylabel('Country');\n",
    "plt.title('Frequency of Fraudulent Activities by Top 10 Country');"
   ]
  },
  {
   "cell_type": "markdown",
   "metadata": {},
   "source": [
    "#### [1] Defining Features and Targets\n",
    "We will now split our data into two part. \"X\" being our features (should be the same as new_data) and \"y\" being our target variables being \"0\" or \"1\" that corresponds to \"No Fraud\" or \"Fraud\" respectively."
   ]
  },
  {
   "cell_type": "code",
   "execution_count": 23,
   "metadata": {},
   "outputs": [],
   "source": [
    "X = new_data;\n",
    "y = data_1.loc[:, data_1.columns == 'class'];"
   ]
  },
  {
   "cell_type": "code",
   "execution_count": 24,
   "metadata": {},
   "outputs": [
    {
     "data": {
      "text/html": [
       "<div>\n",
       "<style scoped>\n",
       "    .dataframe tbody tr th:only-of-type {\n",
       "        vertical-align: middle;\n",
       "    }\n",
       "\n",
       "    .dataframe tbody tr th {\n",
       "        vertical-align: top;\n",
       "    }\n",
       "\n",
       "    .dataframe thead th {\n",
       "        text-align: right;\n",
       "    }\n",
       "</style>\n",
       "<table border=\"1\" class=\"dataframe\">\n",
       "  <thead>\n",
       "    <tr style=\"text-align: right;\">\n",
       "      <th></th>\n",
       "      <th>user_id</th>\n",
       "      <th>country</th>\n",
       "      <th>purchase_value</th>\n",
       "      <th>age</th>\n",
       "      <th>ip_address</th>\n",
       "      <th>source</th>\n",
       "      <th>browser</th>\n",
       "      <th>device_id</th>\n",
       "      <th>difference_time</th>\n",
       "    </tr>\n",
       "  </thead>\n",
       "  <tbody>\n",
       "    <tr>\n",
       "      <td>0</td>\n",
       "      <td>22058</td>\n",
       "      <td>84</td>\n",
       "      <td>34</td>\n",
       "      <td>39</td>\n",
       "      <td>7.327584e+08</td>\n",
       "      <td>2</td>\n",
       "      <td>0</td>\n",
       "      <td>89215</td>\n",
       "      <td>75111</td>\n",
       "    </tr>\n",
       "    <tr>\n",
       "      <td>1</td>\n",
       "      <td>333320</td>\n",
       "      <td>172</td>\n",
       "      <td>16</td>\n",
       "      <td>53</td>\n",
       "      <td>3.503114e+08</td>\n",
       "      <td>0</td>\n",
       "      <td>0</td>\n",
       "      <td>24078</td>\n",
       "      <td>299</td>\n",
       "    </tr>\n",
       "    <tr>\n",
       "      <td>2</td>\n",
       "      <td>1359</td>\n",
       "      <td>172</td>\n",
       "      <td>15</td>\n",
       "      <td>53</td>\n",
       "      <td>2.621474e+09</td>\n",
       "      <td>2</td>\n",
       "      <td>3</td>\n",
       "      <td>131216</td>\n",
       "      <td>0</td>\n",
       "    </tr>\n",
       "    <tr>\n",
       "      <td>3</td>\n",
       "      <td>150084</td>\n",
       "      <td>126</td>\n",
       "      <td>44</td>\n",
       "      <td>41</td>\n",
       "      <td>3.840542e+09</td>\n",
       "      <td>2</td>\n",
       "      <td>4</td>\n",
       "      <td>3977</td>\n",
       "      <td>8201</td>\n",
       "    </tr>\n",
       "    <tr>\n",
       "      <td>4</td>\n",
       "      <td>221365</td>\n",
       "      <td>172</td>\n",
       "      <td>39</td>\n",
       "      <td>45</td>\n",
       "      <td>4.155831e+08</td>\n",
       "      <td>0</td>\n",
       "      <td>4</td>\n",
       "      <td>68757</td>\n",
       "      <td>72691</td>\n",
       "    </tr>\n",
       "  </tbody>\n",
       "</table>\n",
       "</div>"
      ],
      "text/plain": [
       "   user_id  country  purchase_value  age    ip_address  source  browser  \\\n",
       "0    22058       84              34   39  7.327584e+08       2        0   \n",
       "1   333320      172              16   53  3.503114e+08       0        0   \n",
       "2     1359      172              15   53  2.621474e+09       2        3   \n",
       "3   150084      126              44   41  3.840542e+09       2        4   \n",
       "4   221365      172              39   45  4.155831e+08       0        4   \n",
       "\n",
       "   device_id  difference_time  \n",
       "0      89215            75111  \n",
       "1      24078              299  \n",
       "2     131216                0  \n",
       "3       3977             8201  \n",
       "4      68757            72691  "
      ]
     },
     "execution_count": 24,
     "metadata": {},
     "output_type": "execute_result"
    }
   ],
   "source": [
    "X.head()"
   ]
  },
  {
   "cell_type": "code",
   "execution_count": 25,
   "metadata": {},
   "outputs": [
    {
     "data": {
      "text/html": [
       "<div>\n",
       "<style scoped>\n",
       "    .dataframe tbody tr th:only-of-type {\n",
       "        vertical-align: middle;\n",
       "    }\n",
       "\n",
       "    .dataframe tbody tr th {\n",
       "        vertical-align: top;\n",
       "    }\n",
       "\n",
       "    .dataframe thead th {\n",
       "        text-align: right;\n",
       "    }\n",
       "</style>\n",
       "<table border=\"1\" class=\"dataframe\">\n",
       "  <thead>\n",
       "    <tr style=\"text-align: right;\">\n",
       "      <th></th>\n",
       "      <th>class</th>\n",
       "    </tr>\n",
       "  </thead>\n",
       "  <tbody>\n",
       "    <tr>\n",
       "      <td>0</td>\n",
       "      <td>0</td>\n",
       "    </tr>\n",
       "    <tr>\n",
       "      <td>1</td>\n",
       "      <td>0</td>\n",
       "    </tr>\n",
       "    <tr>\n",
       "      <td>2</td>\n",
       "      <td>1</td>\n",
       "    </tr>\n",
       "    <tr>\n",
       "      <td>3</td>\n",
       "      <td>0</td>\n",
       "    </tr>\n",
       "    <tr>\n",
       "      <td>4</td>\n",
       "      <td>0</td>\n",
       "    </tr>\n",
       "  </tbody>\n",
       "</table>\n",
       "</div>"
      ],
      "text/plain": [
       "   class\n",
       "0      0\n",
       "1      0\n",
       "2      1\n",
       "3      0\n",
       "4      0"
      ]
     },
     "execution_count": 25,
     "metadata": {},
     "output_type": "execute_result"
    }
   ],
   "source": [
    "y.head()"
   ]
  },
  {
   "cell_type": "markdown",
   "metadata": {},
   "source": [
    "---\n",
    "## Processing Data\n",
    "We will now apply our finalized data to produce a predictive model."
   ]
  },
  {
   "cell_type": "markdown",
   "metadata": {},
   "source": [
    "#### [1] Train - Test - Split\n",
    "The \"Training\" data is use to develop the model.\n",
    "The \"Testing\" data is used as unseen data and will be the data that is used to test the accuracy of the model.\n",
    "The \"Splitting\" portion is arbitrary but a general 80% of data for training and 20% of data for testing is standard."
   ]
  },
  {
   "cell_type": "code",
   "execution_count": 26,
   "metadata": {},
   "outputs": [],
   "source": [
    "X_train, X_test, y_train, y_test = train_test_split(X, y, test_size = 0.2);"
   ]
  },
  {
   "cell_type": "markdown",
   "metadata": {},
   "source": [
    "#### [2] Model Selection\n",
    "There are several common classification algorithms. For simplicity, we will consider just one algorithm for this case study.\n",
    "\n",
    "   Descision Trees (Random Forest) - A highly accurate algorithm and is flexible. It's classification power is not limited to      binary outcomes like some others like Logistic Regression or Naive Bayes. It is capable of multivariate classification.        Support Vector Machines algorithm is another popular algorithm however its memory consumption is computationally expensive. \n",
    "   We will show the power and versatility of the Random Forest algorithm when applied to a binary classification problem."
   ]
  },
  {
   "cell_type": "code",
   "execution_count": 27,
   "metadata": {},
   "outputs": [],
   "source": [
    "rf_model = RandomForestClassifier(n_estimators = 10, max_depth = None, min_samples_split = len(np.unique(y)), random_state = 0);\n",
    "rf_model.fit(X_train, y_train.values.ravel());"
   ]
  },
  {
   "cell_type": "code",
   "execution_count": 28,
   "metadata": {},
   "outputs": [],
   "source": [
    "def accuracy(model):\n",
    "    \n",
    "    acc = metrics.accuracy_score(y_test, model);\n",
    "    \n",
    "    print(\"Accuracy is : \" + str(acc));"
   ]
  },
  {
   "cell_type": "code",
   "execution_count": 29,
   "metadata": {},
   "outputs": [],
   "source": [
    "def randomforest(dataset):\n",
    "    \n",
    "    predictions = rf_model.predict(dataset);\n",
    "    \n",
    "    return predictions;"
   ]
  },
  {
   "cell_type": "markdown",
   "metadata": {},
   "source": [
    "### Results\n",
    "The Random Forest algorithm used has produced an accuracy of 0.954. \n",
    "This means our model has correctly predicted 95.4% of the testing data."
   ]
  },
  {
   "cell_type": "code",
   "execution_count": 30,
   "metadata": {},
   "outputs": [
    {
     "name": "stdout",
     "output_type": "stream",
     "text": [
      "Accuracy is : 0.9539754491612348\n"
     ]
    }
   ],
   "source": [
    "y_pred = randomforest(X_test);\n",
    "accuracy(y_pred);"
   ]
  },
  {
   "cell_type": "markdown",
   "metadata": {},
   "source": [
    "Our confusion matrix shows that our model has correctly predicted 27293 true \"No Fraud\" and 1385 true \"Fraud\" cases. But has incorrectly predicted 1539 false \"No Fraud\" and 6 false \"Fraud\" cases."
   ]
  },
  {
   "cell_type": "code",
   "execution_count": 31,
   "metadata": {},
   "outputs": [
    {
     "data": {
      "image/png": "[encoded data removed]",
      "text/plain": [
       "<Figure size 432x288 with 2 Axes>"
      ]
     },
     "metadata": {
      "needs_background": "light"
     },
     "output_type": "display_data"
    },
    {
     "name": "stdout",
     "output_type": "stream",
     "text": [
      "          No Fraud  Fraud\n",
      "No Fraud     27293      6\n",
      "Fraud         1385   1539\n"
     ]
    }
   ],
   "source": [
    "from sklearn.metrics import confusion_matrix\n",
    "cm = pd.DataFrame(metrics.confusion_matrix(y_test, y_pred), columns = ['No Fraud',\"Fraud\"], index = [\"No Fraud\",\"Fraud\"]);\n",
    "fig = plt.figure();\n",
    "ax = fig.add_subplot(111);\n",
    "cax = ax.matshow(cm);\n",
    "plt.title('Confusion Matrix \\n');\n",
    "fig.colorbar(cax);\n",
    "labels = [\"No Fraud\",\"Fraud\"];\n",
    "#ax.set_xticklabels([''] + labels);\n",
    "ax.set_xticklabels([''] + labels);\n",
    "ax.set_yticklabels([''] + labels);\n",
    "plt.xlabel('Predicted');\n",
    "plt.ylabel('Actual');\n",
    "plt.show();\n",
    "print(cm);"
   ]
  }
 ],
 "metadata": {
  "kernelspec": {
   "display_name": "Python 3",
   "language": "python",
   "name": "python3"
  },
  "language_info": {
   "codemirror_mode": {
    "name": "ipython",
    "version": 3
   },
   "file_extension": ".py",
   "mimetype": "text/x-python",
   "name": "python",
   "nbconvert_exporter": "python",
   "pygments_lexer": "ipython3",
   "version": "3.7.4"
  }
 },
 "nbformat": 4,
 "nbformat_minor": 2
}
